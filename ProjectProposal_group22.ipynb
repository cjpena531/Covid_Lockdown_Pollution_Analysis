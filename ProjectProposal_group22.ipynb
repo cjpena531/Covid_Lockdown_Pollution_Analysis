{
 "cells": [
  {
   "cell_type": "markdown",
   "metadata": {},
   "source": [
    "# COGS 108 - Final Project Proposal"
   ]
  },
  {
   "cell_type": "markdown",
   "metadata": {},
   "source": [
    "## Names\n",
    "\n",
    "- Aaron Chen\n",
    "- Ian Rebmann\n",
    "- Sandra Villamar\n",
    "- Cathleen Pena\n"
   ]
  },
  {
   "cell_type": "markdown",
   "metadata": {},
   "source": [
    "## Group Members IDs\n",
    "\n",
    "- A15490376\n",
    "- A16102000\n",
    "- A14356262\n",
    "- A15112037\n"
   ]
  },
  {
   "cell_type": "markdown",
   "metadata": {},
   "source": [
    "## Research Question\n",
    "\n",
    "Has the air quality—in particular, the level of CO, NO2, O3, or pm2.5—changed in Los Angeles County since the COVID-19 lockdown regulations were in place? How did it change? Can we conclude that the COVID-19 lockdown is a reasonable guess for this change? Or are there other factors such as weather that may have contributed to a change in the air pollution?"
   ]
  },
  {
   "cell_type": "markdown",
   "metadata": {},
   "source": [
    "## Background and Prior Work\n",
    "\n",
    "Our group decided to choose a question related to COVID-19 because we felt that this pandemic is by far the most prevalent factor that has significantly changed our daily lives in the past weeks. In addition, we wanted to incorporate our other interest with environment-related topics. Therefore, we discussed in what ways the COVID-19 lockdown has affected our normal activities and noticed that the lockdown could have an impact on the level of air pollution. We wanted to see if there is a change in air pollution and if so, how significant this change is. We specifically chose Los Angeles County because we wanted to choose an area in California that is known to have bad air pollution as well as an area with a big population, since our findings could then be relevant to a greater audience. \n",
    "\n",
    "This question is important to ask because if the lockdown has indeed contributed to an improvement in air pollution, then LA County (as well as other counties) could continue to restrict certain activities that are possible in a remote setting. On the other hand, if the lockdown has not contributed to a significant change in air pollution, then we will know to focus on other possible sources in search for finding a solution for better air quality. \n",
    "\n",
    "While searching for our topic, we came across a data science project that studied the change in air pollution in Lombardy, Italy, comparing current COVID-19 lockdown dates to previous years. This project can be found in the first reference link. The data scientists explored air quality data from NO2, Benzene, SO2, pm2.5, and pm10, across the years 2018, 2019, and 2020. They discovered a significant drop in some pollutants and no change in others. They also looked at other factors that are known to improve air quality such as wind, temperature, and precipitation, to see how they changed in relation to the decrease of some pollutant levels. After this analysis, they concluded that the intensity of human activity is the only factor that significantly changed throughout the years and is hence a reasonable guess to why the air quality improved in Lombardy, Italy.  Another study posted to “World Economic Forum” found that some of the world's most polluted cities have seen a large increase in air quality. They plot levels of pm2.5 and post satellite images taken before and during the COVID-19 lockdown to demonstrate how drastic our footprint is on the atmosphere.\n",
    "\n",
    "**References:**\n",
    "- 1) https://towardsdatascience.com/is-covid-19-lockdown-cleaning-the-skies-over-milan-42dbba1ec812\n",
    "- 2) https://www.weforum.org/agenda/2020/04/coronavirus-covid19-air-pollution-enviroment-nature-lockdown"
   ]
  },
  {
   "cell_type": "markdown",
   "metadata": {},
   "source": [
    "## Hypothesis\n",
    "\n",
    "We hypothesize that all four pollutants have significantly reduced in level in Los Angeles County due to the COVID-19 lockdown. We believe this because activities such as transportation and manufacturing have notably decreased due to the restrictions of the lockdown. These are all known sources that contribute to air pollution."
   ]
  },
  {
   "cell_type": "markdown",
   "metadata": {},
   "source": [
    "## Data\n",
    "\n",
    "The ideal dataset we would want would be one that includes the level of pollutants of CO, NO2, O3, and pm2.5 in Los Angeles County. Preferably, we would have data from the past couple years so that we could compare those trends to the current trends during the COVID-19 lockdown with at least 100,000 observations. We would want the data to be in a tabular format (csv) so that it would be easy to clean and we wouldn’t have to scrape any websites for data. Other data such as weather in Los Angeles County (temperature, humidity, and wind) across the same time periods as the pollutant level data would ideally be in our dataset because these factors could possibly be another reason for why air pollution has changed."
   ]
  },
  {
   "cell_type": "markdown",
   "metadata": {},
   "source": [
    "## Ethics & Privacy\n",
    "\n",
    "The proposed dataset we will be using is from the World Air Quality Index project website which hosts an open data platform allowing anyone to download a csv of air quality indexes of locations around the world. The website gives permission to anyone to utilize the data for projects or research.There are no privacy concerns regarding our datasets as the data is regarding numbers on pollutants, not anything regarding humans or their private data. The dataset only contains data such as the date the data was gathered, what pollutant was measured, the location, etc nothing regarding private data.\n",
    "\n",
    "There are no potential biases as the data is collected from several stations around the targeted area and averaged out. There is no room for human biases as the values are obtained through systematic tests. The data recorded is the number measured from the stations so there is no room for human biases to affect the data. We do not believe that there are issues regarding data privacy or equitable impact as our study does not focus on data gathered from humans but only the trend in air quality in Los Angeles.There will be no need to handle issues in these circumstances because the data we’re using does not use any data from individual people, therefore there is no need to clean the data in a way to preserve their privacy. The data we’re using is purely scientific and does not include information on sensitive subjects."
   ]
  },
  {
   "cell_type": "markdown",
   "metadata": {},
   "source": [
    "## Team Expectations \n",
    "\n",
    "* Each team member is responsible for completing the work they were assigned by the start of the next group meeting.\n",
    "* Our team will meet each week to discuss the progress that has been made, any difficulties encountered, and what needs to be done for the following week.\n",
    "* In meetings, when everyone is present, we will divide the work so that everyone has an equal amount of work assigned and ensure that each member agrees to their assignment.\n",
    "* If a team member refuses to cooperate or complete their assigned tasks that we all have agreed upon on the project, we will first inform the uncooperative team member during our weekly meeting. Then, if there has not been significant improvement within a week, we will notify Professor Ellis.\n"
   ]
  },
  {
   "cell_type": "markdown",
   "metadata": {},
   "source": [
    "## Project Timeline Proposal\n",
    "\n",
    "| Meeting Date  | Meeting Time| Completed Before Meeting  | Discuss at Meeting |\n",
    "|---|---|---|---|\n",
    "| 4/15  |  4 PM | Read and think about COGS 108 expectations; brainstorm topics/questions.  | Determine best form of communication; Discuss final project topic; Discuss hypothesis; Begin background research.| \n",
    "| 4/20  |  4 AM |  Do background research on topic | Decide on final project topic; Discuss ideal dataset(s) and ethics; Draft project proposal. | \n",
    "| 4/22  | 4 AM  | Complete assigned parts of proposal.  | Edit, finalize, and submit proposal.   |\n",
    "| 4/26  | 6 PM  | Search for datasets. | Discuss the datasets that were found; Discuss wrangling and possible EDA approaches; Assign group members to import and wrangle data.   |\n",
    "| 5/3  | 6 PM  | Assigned members import and wrangle data as well as do initial EDA. | Review, discuss, and edit wrangling/EDA. |\n",
    "| 5/10  | 6 PM  | Finalize wrangling/EDA| Discuss and make an analysis plan; Assign people to explore different points of analysis. |\n",
    "| 5/17  | 6 PM  | Complete assigned portion of analysis according to plan. | Discuss and edit analysis; Assign group members to draft results and conclusion. |\n",
    "| 5/24  | 6 PM  | Complete analysis; Assigned members draft results and conclusion. | Finalize analysis; Discuss and edit the results and conclusion. |\n",
    "| 5/31  | 6 PM  | Review assigned parts of project. | Discuss and finalize full project. |\n",
    "| 6/10  | 6 PM  | NA | Turn in Final Project & Group Project Surveys |"
   ]
  }
 ],
 "metadata": {
  "kernelspec": {
   "display_name": "Python 3",
   "language": "python",
   "name": "python3"
  },
  "language_info": {
   "codemirror_mode": {
    "name": "ipython",
    "version": 3
   },
   "file_extension": ".py",
   "mimetype": "text/x-python",
   "name": "python",
   "nbconvert_exporter": "python",
   "pygments_lexer": "ipython3",
   "version": "3.6.2"
  }
 },
 "nbformat": 4,
 "nbformat_minor": 2
}
